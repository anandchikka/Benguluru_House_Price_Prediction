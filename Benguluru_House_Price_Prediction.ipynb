{
 "cells": [
  {
   "cell_type": "markdown",
   "id": "ac019ef8-71f6-4a74-9c0c-078844046873",
   "metadata": {},
   "source": [
    "# Importing Libraries"
   ]
  },
  {
   "cell_type": "code",
   "execution_count": 5,
   "id": "052a6f00-845f-4500-b487-8de1d274a934",
   "metadata": {},
   "outputs": [],
   "source": [
    "import pandas as pd\n",
    "import numpy as np\n",
    "from sklearn.model_selection import train_test_split\n",
    "from sklearn.linear_model import LinearRegression, Lasso, Ridge\n",
    "from sklearn.compose import make_column_transformer\n",
    "from sklearn.preprocessing import OneHotEncoder, StandardScaler\n",
    "from sklearn.pipeline import make_pipeline\n",
    "from sklearn.metrics import r2_score\n",
    "import pickle"
   ]
  },
  {
   "cell_type": "code",
   "execution_count": 4,
   "id": "d89dfb06-51d2-4042-be00-251242a6898c",
   "metadata": {},
   "outputs": [],
   "source": [
    "df=pd.read_csv(\"Dataset\\\\Bengaluru_House_Data.csv\")"
   ]
  },
  {
   "cell_type": "code",
   "execution_count": 5,
   "id": "8d06adfb-9bb6-4145-b245-5ed54de4e68f",
   "metadata": {},
   "outputs": [],
   "source": [
    "df.head()"
   ]
  },
  {
   "cell_type": "code",
   "execution_count": 6,
   "id": "d503e6c4-51b1-41fb-bd1a-b10caa6c6465",
   "metadata": {},
   "outputs": [],
   "source": [
    "df.shape"
   ]
  },
  {
   "cell_type": "code",
   "execution_count": 7,
   "id": "31ba6f6d-ee5a-4a8b-8800-3505fccdc1bd",
   "metadata": {},
   "outputs": [],
   "source": [
    "df.info()"
   ]
  },
  {
   "cell_type": "code",
   "execution_count": 8,
   "id": "508a8e8c-6fb0-45c4-8c01-b0bafd1ef3a8",
   "metadata": {},
   "outputs": [],
   "source": [
    "df.isnull().sum()"
   ]
  },
  {
   "cell_type": "code",
   "execution_count": 9,
   "id": "945b0ff5-759e-4648-a101-62c1e7af6aae",
   "metadata": {},
   "outputs": [],
   "source": [
    "df.drop(columns=['area_type', 'availability', 'society', 'balcony'], inplace=True)"
   ]
  },
  {
   "cell_type": "code",
   "execution_count": 10,
   "id": "9b6a548a-c734-4235-beb5-cc6c6b780969",
   "metadata": {},
   "outputs": [],
   "source": [
    "df.head()"
   ]
  },
  {
   "cell_type": "code",
   "execution_count": 11,
   "id": "14b2a509-bdec-4815-8476-062d7b54ddc0",
   "metadata": {},
   "outputs": [],
   "source": [
    "df.describe()"
   ]
  },
  {
   "cell_type": "code",
   "execution_count": 12,
   "id": "af1f3776-031a-497c-a0e8-edb57f5330e1",
   "metadata": {},
   "outputs": [],
   "source": [
    "df.info()"
   ]
  },
  {
   "cell_type": "code",
   "execution_count": 13,
   "id": "59a754d0-9a79-42b1-83b5-5c0120cb791e",
   "metadata": {},
   "outputs": [],
   "source": [
    "df['location'].value_counts()"
   ]
  },
  {
   "cell_type": "code",
   "execution_count": 14,
   "id": "6dc0bc77-4fc2-4db1-8b5b-ab5d09b27443",
   "metadata": {},
   "outputs": [],
   "source": [
    "df['location']=df['location'].fillna('Sarjapur Road')"
   ]
  },
  {
   "cell_type": "code",
   "execution_count": 15,
   "id": "9a555755-81fb-4a2d-a772-8a08dec25535",
   "metadata": {},
   "outputs": [],
   "source": [
    "df['size'].value_counts()"
   ]
  },
  {
   "cell_type": "code",
   "execution_count": 16,
   "id": "201266e1-cf65-4b28-bc73-dcb4e8d1072b",
   "metadata": {},
   "outputs": [],
   "source": [
    "df['size']=df['size'].fillna('2 BHK')"
   ]
  },
  {
   "cell_type": "code",
   "execution_count": 17,
   "id": "aa1e8207-d1e3-4087-b28d-2e8e139b891b",
   "metadata": {},
   "outputs": [],
   "source": [
    "df['bath']=df['bath'].fillna(df['bath'].median())"
   ]
  },
  {
   "cell_type": "code",
   "execution_count": 18,
   "id": "8890f34e-f3d8-4be3-b36a-44dc717e9ffc",
   "metadata": {},
   "outputs": [],
   "source": [
    "df.info()"
   ]
  },
  {
   "cell_type": "code",
   "execution_count": 19,
   "id": "6c1ac074-ca6f-4ee1-973e-5675ff5a5caf",
   "metadata": {},
   "outputs": [],
   "source": [
    "df['bhk']=df['size'].str.split().str.get(0).astype(int)"
   ]
  },
  {
   "cell_type": "code",
   "execution_count": 20,
   "id": "c6b0cdff-5082-4708-8cbe-8939d71b9877",
   "metadata": {},
   "outputs": [],
   "source": [
    "df.head()"
   ]
  },
  {
   "cell_type": "markdown",
   "id": "9c8d477c-00a1-4060-a428-b6e7ca9b1acb",
   "metadata": {},
   "source": [
    "Detecting Outliers"
   ]
  },
  {
   "cell_type": "code",
   "execution_count": 21,
   "id": "771e6508-a2d8-4065-97fa-ea507a0a5f66",
   "metadata": {},
   "outputs": [],
   "source": [
    "df[df.bhk>20]"
   ]
  },
  {
   "cell_type": "code",
   "execution_count": 22,
   "id": "33c9407f-eedf-4296-9f37-d5f84af5541f",
   "metadata": {},
   "outputs": [],
   "source": [
    "df['total_sqft'].unique()"
   ]
  },
  {
   "cell_type": "markdown",
   "id": "9c65c88d-07bb-451f-b093-da4f153affe3",
   "metadata": {},
   "source": [
    "There are ranges in the values. So we're going to find the median of the ranges"
   ]
  },
  {
   "cell_type": "markdown",
   "id": "18eb99cd-bf66-47f3-97e3-ece550571ea9",
   "metadata": {},
   "source": [
    "Funtion to do the above mentioned task"
   ]
  },
  {
   "cell_type": "code",
   "execution_count": 23,
   "id": "72cb9f6b-74cd-492c-8951-dbda40918a39",
   "metadata": {},
   "outputs": [],
   "source": [
    "def convertRange(x):\n",
    "    temp=x.split('-')\n",
    "    if len(temp)==2:\n",
    "        return (float(temp[0])+float(temp[1]))/2\n",
    "    try:\n",
    "        return float(x)\n",
    "    except:\n",
    "        return None"
   ]
  },
  {
   "cell_type": "code",
   "execution_count": 24,
   "id": "8766f0b5-8f94-41a6-a7df-9c1888d2f276",
   "metadata": {},
   "outputs": [],
   "source": [
    "df['total_sqft']=df['total_sqft'].apply(convertRange)"
   ]
  },
  {
   "cell_type": "code",
   "execution_count": 25,
   "id": "470536ec-c73a-4e26-93e4-4dab4d65b1f8",
   "metadata": {},
   "outputs": [],
   "source": [
    "df.head()"
   ]
  },
  {
   "cell_type": "markdown",
   "id": "6522b6fa-0553-4295-9a4a-42d411daeb40",
   "metadata": {},
   "source": [
    "Price per square feet"
   ]
  },
  {
   "cell_type": "code",
   "execution_count": 26,
   "id": "458a4d8b-086d-4147-8529-4fc240af91c6",
   "metadata": {},
   "outputs": [],
   "source": [
    "df['price_per_sqft']=df['price']*100000/df['total_sqft']"
   ]
  },
  {
   "cell_type": "code",
   "execution_count": 27,
   "id": "e971fa2b-6b9b-4683-892b-7715a0ced2cf",
   "metadata": {},
   "outputs": [],
   "source": [
    "df['price_per_sqft']"
   ]
  },
  {
   "cell_type": "code",
   "execution_count": 28,
   "id": "32deb79f-f893-45bf-baf0-e45c0968b283",
   "metadata": {},
   "outputs": [],
   "source": [
    "df.describe()"
   ]
  },
  {
   "cell_type": "code",
   "execution_count": 29,
   "id": "05f8c198-d1a7-4bb7-9967-2ecbf55906c8",
   "metadata": {},
   "outputs": [],
   "source": [
    "df['location'].value_counts()"
   ]
  },
  {
   "cell_type": "markdown",
   "id": "072b9a47-8e45-4293-949c-19ed286d684e",
   "metadata": {},
   "source": [
    "We're going to make all the locations with occurences <= 10 as 'Others' to reduce no. of locations, so that the model can learn efficicently"
   ]
  },
  {
   "cell_type": "code",
   "execution_count": 30,
   "id": "d1e1ce97-5774-45fb-b57a-e74c9b50177f",
   "metadata": {},
   "outputs": [],
   "source": [
    "df['location']=df['location'].apply(lambda x: x.strip())\n",
    "location_counts=df['location'].value_counts()"
   ]
  },
  {
   "cell_type": "code",
   "execution_count": 31,
   "id": "206f7243-26c7-49a2-8ebe-a1a5af673d39",
   "metadata": {},
   "outputs": [],
   "source": [
    "location_count_less_than_10=location_counts[location_counts<=10]\n",
    "location_count_less_than_10"
   ]
  },
  {
   "cell_type": "code",
   "execution_count": 32,
   "id": "911e94b9-27f8-42bc-b466-e850a5ab826d",
   "metadata": {},
   "outputs": [],
   "source": [
    "df['location']=df['location'].apply(lambda x: 'other' if x in location_count_less_than_10 else x)"
   ]
  },
  {
   "cell_type": "code",
   "execution_count": 33,
   "id": "90ec84ea-6f7f-41c0-860f-305c6399e303",
   "metadata": {},
   "outputs": [],
   "source": [
    "df['location'].value_counts()"
   ]
  },
  {
   "cell_type": "code",
   "execution_count": 34,
   "id": "5f0c5b50-17a5-4dc2-b6c1-a26a8c6b1787",
   "metadata": {},
   "outputs": [],
   "source": [
    "df.describe()"
   ]
  },
  {
   "cell_type": "markdown",
   "id": "c90bea92-62fc-43ef-a3d5-750570c72aa1",
   "metadata": {},
   "source": [
    "How many Square Feet in 1 BHK?"
   ]
  },
  {
   "cell_type": "code",
   "execution_count": 35,
   "id": "3a8f0018-da20-4afc-873e-853e4e3afef8",
   "metadata": {},
   "outputs": [],
   "source": [
    "(df['total_sqft']/df['bhk']).describe()"
   ]
  },
  {
   "cell_type": "markdown",
   "id": "419142cc-33f2-4cca-ab4e-d512e3b972c7",
   "metadata": {},
   "source": [
    "We're going to remove the flats with 1 BHK less 300 sqft."
   ]
  },
  {
   "cell_type": "code",
   "execution_count": 36,
   "id": "89b0b174-d5e5-457b-b200-181f0d18bf7a",
   "metadata": {},
   "outputs": [],
   "source": [
    "df=df[((df['total_sqft']/df['bhk'])>=300)]"
   ]
  },
  {
   "cell_type": "code",
   "execution_count": 37,
   "id": "4a9debd7-9967-4430-b5b1-8425fb408350",
   "metadata": {},
   "outputs": [],
   "source": [
    "df.describe()"
   ]
  },
  {
   "cell_type": "code",
   "execution_count": 38,
   "id": "7e35b8c9-ceab-456b-8da4-64aa44a51ea3",
   "metadata": {},
   "outputs": [],
   "source": [
    "df.shape"
   ]
  },
  {
   "cell_type": "code",
   "execution_count": 39,
   "id": "720cb517-08b6-4fb9-9e6d-774ddb099615",
   "metadata": {},
   "outputs": [],
   "source": [
    "df['price_per_sqft'].describe()"
   ]
  },
  {
   "cell_type": "markdown",
   "id": "c96f3c36-0d4f-4f50-a7ef-bce1ab5072d5",
   "metadata": {},
   "source": [
    "Max price for a single sqft is too high."
   ]
  },
  {
   "cell_type": "markdown",
   "id": "8cdff894-c0f7-4003-b45f-f01fe4048446",
   "metadata": {},
   "source": [
    "We're gonna give a function to remove outliers in price_per_sqft"
   ]
  },
  {
   "cell_type": "markdown",
   "id": "4b654d71-582a-4004-817b-816735a18b56",
   "metadata": {},
   "source": [
    "We're removing the prices that are the out of range of [mean-sd, mean-sd]. Any point out of this range is considered as an outlier"
   ]
  },
  {
   "cell_type": "code",
   "execution_count": 40,
   "id": "7dfb5528-d6c3-48b2-b86b-40a05f60a6cf",
   "metadata": {},
   "outputs": [],
   "source": [
    "def remove_outlier_sqft(df):\n",
    "    df_output=pd.DataFrame()\n",
    "    for key, subdf in df.groupby('location'):\n",
    "        m=np.mean(subdf['price_per_sqft'])\n",
    "        sd=np.std(subdf['price_per_sqft'])\n",
    "\n",
    "        gen_df=subdf[(subdf.price_per_sqft > (m-sd)) & (subdf.price_per_sqft <= (m+sd))]\n",
    "        df_output=pd.concat([df_output, gen_df], ignore_index=True)\n",
    "    return df_output\n",
    "df=remove_outlier_sqft(df)"
   ]
  },
  {
   "cell_type": "code",
   "execution_count": 41,
   "id": "012cf029-f2c6-4182-8449-1e58b4113fcc",
   "metadata": {},
   "outputs": [],
   "source": [
    "df.describe()"
   ]
  },
  {
   "cell_type": "markdown",
   "id": "5f0b473a-7870-4685-b420-03cee91c0f14",
   "metadata": {},
   "source": [
    "Creating a function to removie outliers in bhk"
   ]
  },
  {
   "cell_type": "code",
   "execution_count": 42,
   "id": "ba6401fc-41c9-495c-b687-49984791dc7c",
   "metadata": {},
   "outputs": [],
   "source": [
    "def remove_outlier_bhk(df):\n",
    "    exclude_indices=np.array([])\n",
    "    for location, location_df in df.groupby('location'):\n",
    "        bhk_stats={}\n",
    "        for bhk, bhk_df in location_df.groupby('bhk'):\n",
    "            bhk_stats[bhk]={\n",
    "                'mean': np.mean(bhk_df.price_per_sqft),\n",
    "                'std': np.std(bhk_df.price_per_sqft),\n",
    "                'count': bhk_df.shape[0]\n",
    "            }\n",
    "        for bhk, bhk_df in location_df.groupby('bhk'):\n",
    "            stats=bhk_stats.get(bhk-1)\n",
    "            if stats and stats['count']>5:\n",
    "                exclude_indices=np.append(exclude_indices, bhk_df[bhk_df.price_per_sqft<(stats['mean'])].index.values)\n",
    "    return df.drop(exclude_indices, axis='index')\n",
    "df=remove_outlier_bhk(df)"
   ]
  },
  {
   "cell_type": "code",
   "execution_count": 43,
   "id": "23432b32-d660-4627-995a-a0cd96a64e8b",
   "metadata": {},
   "outputs": [],
   "source": [
    "df.shape"
   ]
  },
  {
   "cell_type": "code",
   "execution_count": 44,
   "id": "53c26709-947e-47be-9a9b-2c528fe93320",
   "metadata": {},
   "outputs": [],
   "source": [
    "df.head()"
   ]
  },
  {
   "cell_type": "markdown",
   "id": "bab7fb67-ff10-45d9-81be-148595bce93a",
   "metadata": {},
   "source": [
    "We are removing the unnecessary columns: 'size' and 'price_per_sqft' (We used price_per_sqft just to remove the outliers)"
   ]
  },
  {
   "cell_type": "code",
   "execution_count": 45,
   "id": "2ae03268-9002-472d-8905-77f3855d4c74",
   "metadata": {},
   "outputs": [],
   "source": [
    "df.drop(columns=['size', 'price_per_sqft'], inplace=True)"
   ]
  },
  {
   "cell_type": "markdown",
   "id": "27081215-98bc-4096-9cb4-ed89c592f388",
   "metadata": {},
   "source": [
    "# Cleaned Data"
   ]
  },
  {
   "cell_type": "code",
   "execution_count": 46,
   "id": "6a33dc85-2bf5-450b-9d28-9f28b1b4f7b9",
   "metadata": {},
   "outputs": [],
   "source": [
    "df"
   ]
  },
  {
   "cell_type": "code",
   "execution_count": 47,
   "id": "41427acd-b43c-4837-8aae-2443c2ac0ef3",
   "metadata": {},
   "outputs": [],
   "source": [
    "df.to_csv(\"cleaned_data.csv\")"
   ]
  },
  {
   "cell_type": "code",
   "execution_count": 48,
   "id": "613a286b-d9ed-4130-bfb7-f7891579cc26",
   "metadata": {},
   "outputs": [],
   "source": [
    "X=df.drop(columns=['price'])\n",
    "y=df['price']"
   ]
  },
  {
   "cell_type": "code",
   "execution_count": 49,
   "id": "d0bb5a9c-ac52-49d9-9099-d1c6b6d311a3",
   "metadata": {},
   "outputs": [],
   "source": [
    "X_train, X_test, y_train, y_test=train_test_split(X, y, test_size=0.2, random_state=0)"
   ]
  },
  {
   "cell_type": "code",
   "execution_count": 50,
   "id": "19576f0d-9dea-4a92-ad75-2f80049d6ce0",
   "metadata": {},
   "outputs": [],
   "source": [
    "print(X_train.shape)\n",
    "print(X_test.shape)"
   ]
  },
  {
   "cell_type": "markdown",
   "id": "ba810d21-e2d2-4ce1-a311-f85966a0452c",
   "metadata": {},
   "source": [
    "# Linear Regression"
   ]
  },
  {
   "cell_type": "code",
   "execution_count": 51,
   "id": "86137eec-75d1-46be-aa38-f27245561c63",
   "metadata": {},
   "outputs": [],
   "source": [
    "column_trans=make_column_transformer((OneHotEncoder(sparse=False), ['location']),\n",
    "                                    remainder='passthrough')"
   ]
  },
  {
   "cell_type": "code",
   "execution_count": 52,
   "id": "a5880ecd-4f09-4adf-9be9-0d3455966ddb",
   "metadata": {},
   "outputs": [],
   "source": [
    "scaler=StandardScaler()"
   ]
  },
  {
   "cell_type": "code",
   "execution_count": 53,
   "id": "3b454c9b-b069-4f97-b4a6-6d140cc086c7",
   "metadata": {},
   "outputs": [],
   "source": [
    "lr=LinearRegression()"
   ]
  },
  {
   "cell_type": "code",
   "execution_count": 54,
   "id": "1602d312-9b36-4582-aea0-0d442179f4b9",
   "metadata": {},
   "outputs": [],
   "source": [
    "pipe=make_pipeline(column_trans, scaler, lr)"
   ]
  },
  {
   "cell_type": "code",
   "execution_count": 55,
   "id": "c4c6e30e-66dd-40e7-8121-94082317c7a3",
   "metadata": {},
   "outputs": [],
   "source": [
    "pipe.fit(X_train, y_train)"
   ]
  },
  {
   "cell_type": "code",
   "execution_count": 56,
   "id": "2cec3130-7a19-4853-b87e-8da382a144d7",
   "metadata": {},
   "outputs": [],
   "source": [
    "y_pred_lr=pipe.predict(X_test)"
   ]
  },
  {
   "cell_type": "code",
   "execution_count": 57,
   "id": "677caf79-cf3d-46ed-903b-94cd8ec6dc4a",
   "metadata": {},
   "outputs": [],
   "source": [
    "r2_score(y_test, y_pred_lr)"
   ]
  },
  {
   "cell_type": "markdown",
   "id": "9cc8be16-d9bf-44d3-a4f1-43ee9862fdfb",
   "metadata": {},
   "source": [
    "# Lasso"
   ]
  },
  {
   "cell_type": "code",
   "execution_count": 58,
   "id": "f1fca0d9-eda7-43f7-92d4-cbb9d8e3ffbe",
   "metadata": {},
   "outputs": [],
   "source": [
    "lasso=Lasso()"
   ]
  },
  {
   "cell_type": "code",
   "execution_count": 59,
   "id": "d7f3bc1c-a50e-462e-b127-0d0cd482dd82",
   "metadata": {},
   "outputs": [],
   "source": [
    "pipe=make_pipeline(column_trans, scaler, lasso)"
   ]
  },
  {
   "cell_type": "code",
   "execution_count": 60,
   "id": "cdadb414-5ec0-47a5-b8dc-c7bf3119bc1f",
   "metadata": {},
   "outputs": [],
   "source": [
    "pipe.fit(X_train, y_train)"
   ]
  },
  {
   "cell_type": "code",
   "execution_count": 61,
   "id": "75934e07-b7f5-4457-9254-3360e24a253f",
   "metadata": {},
   "outputs": [],
   "source": [
    "y_pred_lasso=pipe.predict(X_test)"
   ]
  },
  {
   "cell_type": "code",
   "execution_count": 62,
   "id": "087f306d-983b-49ea-ad59-5a22cb673d09",
   "metadata": {},
   "outputs": [],
   "source": [
    "r2_score(y_test, y_pred_lasso)"
   ]
  },
  {
   "cell_type": "markdown",
   "id": "adb0d877-ce48-4298-a42d-dfa024b2b997",
   "metadata": {},
   "source": [
    "# Ridge"
   ]
  },
  {
   "cell_type": "code",
   "execution_count": 63,
   "id": "e2870d84-1b85-4ebd-88a6-a590de70b8e3",
   "metadata": {},
   "outputs": [],
   "source": [
    "ridge=Ridge()"
   ]
  },
  {
   "cell_type": "code",
   "execution_count": 64,
   "id": "3bafd81e-257d-4362-9d80-a0730eb72767",
   "metadata": {},
   "outputs": [],
   "source": [
    "pipe=make_pipeline(column_trans, scaler, ridge)"
   ]
  },
  {
   "cell_type": "code",
   "execution_count": 65,
   "id": "2c2dc617-3244-4d83-a7cf-18dbdb093ea4",
   "metadata": {},
   "outputs": [],
   "source": [
    "pipe.fit(X_train, y_train)"
   ]
  },
  {
   "cell_type": "code",
   "execution_count": 66,
   "id": "5050f48e-72db-4f7c-a319-d10fd5233370",
   "metadata": {},
   "outputs": [],
   "source": [
    "y_pred_ridge=pipe.predict(X_test)"
   ]
  },
  {
   "cell_type": "code",
   "execution_count": 67,
   "id": "6ec93901-d583-4cf2-8f18-efc9d3fa5520",
   "metadata": {},
   "outputs": [],
   "source": [
    "r2_score(y_test, y_pred_ridge)"
   ]
  },
  {
   "cell_type": "code",
   "execution_count": 68,
   "id": "db5064c8-e210-4b4c-86ac-e3d71d39e010",
   "metadata": {},
   "outputs": [],
   "source": [
    "print(\"No Regularization: \", r2_score(y_test, y_pred_lr))\n",
    "print(\"Lasso: \", r2_score(y_test, y_pred_lasso))\n",
    "print(\"Ridge: \", r2_score(y_test, y_pred_ridge))"
   ]
  },
  {
   "cell_type": "markdown",
   "id": "d2a79d3e-d627-4630-bb04-5008796e5b73",
   "metadata": {},
   "source": [
    "Both Rigde and No Regularization are same. So we take Ridge Model."
   ]
  },
  {
   "cell_type": "code",
   "execution_count": 69,
   "id": "1847daed-c8f4-4313-8c0b-74146ffdc946",
   "metadata": {},
   "outputs": [],
   "source": [
    "pickle.dump(pipe, open('RidgeModel.pkl', 'wb'))"
   ]
  },
  {
   "cell_type": "code",
   "execution_count": null,
   "id": "82b3da70-56dd-41bc-b3d2-dfae6ccde78b",
   "metadata": {},
   "outputs": [],
   "source": []
  }
 ],
 "metadata": {
  "kernelspec": {
   "display_name": "Python 3 (ipykernel)",
   "language": "python",
   "name": "python3"
  },
  "language_info": {
   "codemirror_mode": {
    "name": "ipython",
    "version": 3
   },
   "file_extension": ".py",
   "mimetype": "text/x-python",
   "name": "python",
   "nbconvert_exporter": "python",
   "pygments_lexer": "ipython3",
   "version": "3.12.3"
  }
 },
 "nbformat": 4,
 "nbformat_minor": 5
}
